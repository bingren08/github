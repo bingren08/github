{
 "cells": [
  {
   "cell_type": "code",
   "execution_count": 27,
   "metadata": {},
   "outputs": [
    {
     "name": "stdout",
     "output_type": "stream",
     "text": [
      "[[2017, 2530, 2530], [2016, 2530, 2530], [2015, 2530, 2530], [2014, 2530, 2530], [2013, 2530, 2530], [2012, 2530, 2530], [2011, 2530, 2530], [2010, 2530, 2530], [2009, 2530, 2530], [2008, 2530, 2530], [2007, 2530, 2530], [2006, 2530, 2530], [2005, 2530, 2530], [2004, 2530, 2530], [2003, 2530, 2530], [2002, 2530, 2530], [2001, 2530, 2530]]\n"
     ]
    }
   ],
   "source": [
    "data = [[2001,2530,2530],\n",
    "[2002,2530,2530],\n",
    "[2003,2530,2530],\n",
    "[2004,2530,2530],\n",
    "[2005,2530,2530],\n",
    "[2006,2530,2530],\n",
    "[2007,2530,2530],\n",
    "[2008,2530,2530],\n",
    "[2009,2530,2530],\n",
    "[2010,2530,2530],\n",
    "[2011,2530,2530],\n",
    "[2012,2530,2530],\n",
    "[2013,2530,2530],\n",
    "[2014,2530,2530],\n",
    "[2015,2530,2530],\n",
    "[2016,2530,2530],\n",
    "[2017,2530,2530]\n",
    "]\n",
    "\n",
    "\n",
    "#data=sorted(data,lambda x,y:cmp(x[0],y[0]),reverse=True)\n",
    "data.sort(lambda x,y:cmp(x[0],y[0]),reverse=True)\n",
    "\n",
    "print(data)"
   ]
  },
  {
   "cell_type": "code",
   "execution_count": 29,
   "metadata": {},
   "outputs": [
    {
     "name": "stdout",
     "output_type": "stream",
     "text": [
      "[[2017, 2530, 2530, 0], [2016, 2530, 2530, 0], [2015, 2530, 2530, 0], [2014, 2530, 2530, 0], [2013, 2530, 2530, 0], [2012, 2530, 2530, 0], [2011, 2530, 2530, 0], [2010, 2530, 2530, 0], [2009, 2530, 2530, 0], [2008, 2530, 2530, 0], [2007, 2530, 2530, 0], [2006, 2530, 2530, 0], [2005, 2530, 2530, 0], [2004, 2530, 2530, 0], [2003, 2530, 2530, 0], [2002, 2530, 2530, 0], [2001, 2530, 2530, 0]]\n"
     ]
    }
   ],
   "source": [
    "d = [ [i[0],i[1],i[2],(i[1]-i[2])] for i in data]\n",
    "print(d)"
   ]
  },
  {
   "cell_type": "code",
   "execution_count": 16,
   "metadata": {},
   "outputs": [
    {
     "name": "stdout",
     "output_type": "stream",
     "text": [
      "99\n"
     ]
    }
   ],
   "source": [
    "a = 100\n",
    "a -=1\n",
    "print(a)"
   ]
  },
  {
   "cell_type": "code",
   "execution_count": 17,
   "metadata": {},
   "outputs": [],
   "source": [
    "import math"
   ]
  },
  {
   "cell_type": "code",
   "execution_count": 19,
   "metadata": {
    "scrolled": true
   },
   "outputs": [
    {
     "data": {
      "text/plain": [
       "2.8"
      ]
     },
     "execution_count": 19,
     "metadata": {},
     "output_type": "execute_result"
    }
   ],
   "source": [
    "float(14)/5"
   ]
  },
  {
   "cell_type": "code",
   "execution_count": 20,
   "metadata": {},
   "outputs": [],
   "source": [
    "a= [1,2,3,4,5,6,7,8,9,10,11,12,13,14,15]\n",
    "b= a[5:]"
   ]
  },
  {
   "cell_type": "code",
   "execution_count": 26,
   "metadata": {},
   "outputs": [
    {
     "name": "stdout",
     "output_type": "stream",
     "text": [
      "[1, 2, 3, 4, 5]\n",
      "[3]\n"
     ]
    }
   ],
   "source": [
    "print(a[0:5])\n",
    "print(a[2:3])"
   ]
  }
 ],
 "metadata": {
  "kernelspec": {
   "display_name": "Python 2",
   "language": "python",
   "name": "python2"
  },
  "language_info": {
   "codemirror_mode": {
    "name": "ipython",
    "version": 2
   },
   "file_extension": ".py",
   "mimetype": "text/x-python",
   "name": "python",
   "nbconvert_exporter": "python",
   "pygments_lexer": "ipython2",
   "version": "2.7.14"
  }
 },
 "nbformat": 4,
 "nbformat_minor": 2
}
